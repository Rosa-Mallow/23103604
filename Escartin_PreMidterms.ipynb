{
 "cells": [
  {
   "cell_type": "markdown",
   "metadata": {},
   "source": [
    "# Discrete Structures 2\n",
    "Name: *Emily Rose D. Escartin* \\\n",
    "Program and Year: *BSCS - 1*\n",
    "# Lecture 1 Assignment\n"
   ]
  },
  {
   "cell_type": "markdown",
   "metadata": {},
   "source": [
    "Instructions:\n",
    "- Use latex\n",
    "- Write your latex in jupyter notebook.\n",
    "- Push your answer to your github account.\n",
    "- Deadline is 2 weeks before finals.\n",
    "- Fail to submit 2 weeks before finals is an automatic 5.0 for this assignment.\n",
    "- Each problem is 25 points."
   ]
  },
  {
   "cell_type": "markdown",
   "metadata": {},
   "source": [
    "### Problem 1:\n",
    "\n",
    "Recall the definition of a rational number, denoted as $\\mathbb{Q}$. Prove that the Euler's number $e = \\Sigma_{k=0}^\\infty \\frac{1}{k!} \\notin \\mathbb{Q}$. \\\n",
    "A factorial is defined as $k! = (k)(k-1)(k-2)(k-3)..., \\forall k \\in \\mathbb{Z}^+$, note that $0! = 1$. \\\n",
    "Furthermore, a sum notation $\\Sigma_{k=0}^\\infty k = 0+ 1 + 2 + 3 +....+...$"
   ]
  },
  {
   "cell_type": "markdown",
   "metadata": {},
   "source": [
    "**Solution:**\n",
    "\n",
    "- Use Proof by Contradiction\n",
    "\n",
    "Suppose that $e$ is rational, therefore we can express it as the ratio of two integers $p$ and $q$, where $q \\neq 0$. In this case, both $p$ and $q$ are positive integers.\n",
    "\n",
    "- Since $e = \\frac{p}{q}$, then $q!e = q! \\cdot \\frac{p}{q}$ is an integer.\n",
    "\n",
    "- Consider the expansion of $e = \\Sigma_{k=0}^\\infty \\frac{1}{k!}$\n",
    "\n",
    "Expanding the equation gives us: $$e = \\frac{1}{0!} + \\frac{1}{1!} + \\frac{1}{2!} + \\frac{1}{3!} + \\frac{1}{4!} + ...$$\n",
    "$\\frac{1}{0!} = 1$.\n",
    "This series continues infinitely. So let's consider a finite series instead up to some positive integer $n$: \n",
    "$$e_n =  1 + \\frac{1}{1!} + \\frac{1}{2!} + \\frac{1}{3!} + \\frac{1}{4!} + ... + \\frac{1}{n!}$$\n",
    "Let $q!$ be the product of all positive integers leading up to $q$. Multiply $q!$ to $e_n$.\n",
    "$$q!e_n = q! (1 + \\frac{1}{1!} + \\frac{1}{2!} + \\frac{1}{3!} + \\frac{1}{4!} + ... + \\frac{1}{n!})$$\n",
    "$$q!e_n = q! + \\frac{q!}{1!} + \\frac{q!}{2!} + \\frac{q!}{3!} + \\frac{q!}{4!} + ... + \\frac{q!}{n!}$$\n",
    "We can safely assume that every term on this equation is an integer. Regarding the other half of the equation, let's call it $x$: where $x = e = (... + \\frac{1}{(q + 1)!} + \\frac{1}{(q + 2)!} + \\frac{1}{(q + 3)!} + ...)$, we will show that $0 < x < 1$ which will lead it into a contradiction as $x$ would not be considered an integer as it will contradict the equation $q!e = q! \\cdot \\frac{p}{q}$ which is an integer.\n",
    "\n",
    "- Show that $0 < x < 1$\n",
    "\n",
    "$$x = q! (\\frac{1}{q!} + \\frac{1}{(q + 1)!} + \\frac{1}{(q + 2)!} + \\frac{1}{(q + 3)!} + ...)$$\n",
    "$$x = \\frac{1}{(q + 1)} + \\frac{1}{(q + 2)(q + 1)} + \\frac{1}{(q + 3)(q + 2)(q + 1)} + \\frac{1}{(q + 4)(q + 3)(q + 2)(q + 1)} + ...$$\n",
    "As seen above, it is clear that the approximate sum of $x$ is greater than 0 because we are adding positive integers, proving the first inequality. \\\n",
    "Now we will show that $x$ is less than 1. Rewrite the equation as:\n",
    "$$x < \\frac{1}{(q + 1)} + \\frac{1}{(q + 1)(q + 1)} + \\frac{1}{(q + 1)(q + 1)(q + 1)} + \\frac{1}{(q + 1)(q + 1)(q + 1)(q + 1)} + ...$$\n",
    "Each term is divided by something smaller, and fractions divided by something smaller make it larger. Therefore, the right side of the inequality is greater than $x$, thus proving the second inequality. \n",
    "\n",
    "Now that we have shown that $0 < x < 1$, $x$ cannot be considered an integer. This contradicts the statement that $q!e$ is an integer, therefore $e$ is **not** rational.\n"
   ]
  },
  {
   "cell_type": "markdown",
   "metadata": {},
   "source": [
    "### Problem 2:\n",
    "\n",
    "Prove Minkowski's Inequality for sums, $\\forall \\ p>1, (a_k, b_k)>0$:\n",
    "\n",
    "$$[\\Sigma_{k=1}^n |a_k + b_k|^p]^\\frac{1}{p} \\leq [\\Sigma_{k=1}^n |a_k|^p]^\\frac{1}{p} + [\\Sigma_{k=1}^n |b_k|^p]^\\frac{1}{p}$$"
   ]
  },
  {
   "cell_type": "markdown",
   "metadata": {},
   "source": [
    "**Solution:**\n",
    "\n",
    "- Define Hölder's inequality \n",
    "\n",
    "Hölder's inequality states that for any measurable functions $f$ and $g$, and any $p > 1$, $q > 1$, such that $\\frac{1}{p} + \\frac{1}{q} = 1$, we have:\n",
    "$$(\\Sigma_{k=1}^n |a_k b_k|) \\leq [\\Sigma_{k=1}^n |a_k|^p]^\\frac{1}{p} + [\\Sigma_{k=1}^n |b_k|^q]^\\frac{1}{q}$$\n",
    "\n",
    "- Now, let: \n",
    "$$f_k = \\frac{|a_k|}{(\\Sigma_{k=1}^n |a_k|^p)^\\frac{1}{p}}$$ \n",
    "$$g_k = \\frac{|b_k|}{(\\Sigma_{k=1}^n |b_k|^p)^\\frac{1}{p}}$$\n",
    "\n",
    "- With Hölder's inequality:\n",
    "\n",
    "$$\\sum_{k=1}^n |a_k b_k| \\leq \\left(\\sum_{k=1}^n |a_k|^p \\right)^{\\frac{1}{p}} \\left( \\sum_{k=1}^n |b_k|^q \\right)^{\\frac{1}{q}}$$\n",
    "\n",
    "$$\\sum_{k=1}^n |a_k b_k| \\leq \\left[\\sum_{k=1}^n \\left(\\frac{|a_k|}{\\left( \\sum_{k=1}^n |a_k|^p \\right)^{\\frac{1}{p}}} \\right)^p \\right]^{\\frac{1}{p}} \\left[\\sum_{k=1}^n \\left(\\frac{|b_k|}{\\left( \\sum_{k=1}^n |b_k|^p \\right)^{\\frac{1}{p}}} \\right)^q \\right]^{\\frac{1}{q}}$$\n",
    "\n",
    "$$\\sum_{k=1}^n |a_k b_k| \\leq \\left( \\sum_{k=1}^n \\frac{|a_k|^p}{\\sum_{k=1}^n |a_k|^p} \\right)^{\\frac{1}{p}} \\left( \\sum_{k=1}^n \\frac{|b_k|^p}{\\sum_{k=1}^n |b_k|^p} \\right)^{\\frac{1}{q}}$$\n",
    "\n",
    "$$\\sum_{k=1}^n |a_k b_k| \\leq 1 \\times 1 = 1$$\n",
    "\n",
    "- Therefore, \n",
    "\n",
    "$$\\left( \\sum_{k=1}^n |a_k + b_k|^p \\right)^{\\frac{1}{p}} \\leq \\left( \\sum_{k=1}^n |a_k|^p \\right)^{\\frac{1}{p}} + \\left( \\sum_{k=1}^n |b_k|^p \\right)^{\\frac{1}{p}}$$\n",
    "\n",
    "This proves Minkowski's inequality for sums."
   ]
  },
  {
   "cell_type": "markdown",
   "metadata": {},
   "source": [
    "Problem 3:\n",
    "\n",
    "Prove the triangle inequality $|x+y| \\leq |x| + |y|, \\forall (x,y) \\in \\mathbb{R}$"
   ]
  },
  {
   "cell_type": "markdown",
   "metadata": {},
   "source": [
    "**Solution:**\n",
    "\n",
    "- "
   ]
  },
  {
   "cell_type": "markdown",
   "metadata": {},
   "source": [
    "Problem 4:\n",
    "\n",
    "Prove Sedrakayan's Lemma $\\forall u_i, v_i \\in \\mathbb{R}^+$:\n",
    "\n",
    "$$\\frac{(\\Sigma_{i=1}^n u_i)^2}{\\Sigma_{i=1}^n v_i} \\leq \\Sigma_{i=1}^n \\frac{(u_i)^2}{v_i}$$"
   ]
  }
 ],
 "metadata": {
  "language_info": {
   "name": "python"
  }
 },
 "nbformat": 4,
 "nbformat_minor": 2
}
